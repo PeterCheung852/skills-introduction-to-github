{
 "cells": [
  {
   "cell_type": "markdown",
   "id": "d9fe9074-e717-4ae0-bd3c-c82232c1a652",
   "metadata": {},
   "source": [
    "# Data Science Tools and Ecosystem"
   ]
  },
  {
   "cell_type": "markdown",
   "id": "b61dbf96-db93-42f1-aa77-f451bac81e46",
   "metadata": {},
   "source": [
    "In this notebook, Data Science Tools and Ecosystem are summarized."
   ]
  },
  {
   "cell_type": "markdown",
   "id": "f8bd49d3-38ee-4da4-b0c9-0321caee0fe1",
   "metadata": {},
   "source": [
    "**Objective**\n",
    "- Popular languages in Data Scientists\n",
    "- Commonly used libraries in data science\n",
    "- Data Science Tools"
   ]
  },
  {
   "cell_type": "markdown",
   "id": "b906d52d-5f11-4e34-b0e2-ce87c012f8ce",
   "metadata": {},
   "source": [
    "Some of the popular languages that Data Scientists use are:\n",
    "1. python\n",
    "2. R\n",
    "3. SQL"
   ]
  },
  {
   "cell_type": "markdown",
   "id": "8984aa57-3970-4b7e-aae6-fde3a0137b93",
   "metadata": {},
   "source": [
    "Some of the commonly used libraries used by Data Scientists include:\n",
    "1. Pandas\n",
    "2. NumPy\n",
    "3. Matplotlib"
   ]
  },
  {
   "cell_type": "markdown",
   "id": "96b93154-9b4d-427d-bcb1-efe17a50f5d6",
   "metadata": {},
   "source": [
    "| Data Science Tools      |\n",
    "|-------------------------|\n",
    "| Jupyter Notebook        |\n",
    "| Apache Zeppelin         |\n",
    "| RStudio                 |"
   ]
  },
  {
   "cell_type": "markdown",
   "id": "e41140de-996b-4e50-9fd2-e61d35dea099",
   "metadata": {},
   "source": [
    "# Below are a few examples of evaluating arithmetic expressions in Python."
   ]
  },
  {
   "cell_type": "code",
   "execution_count": 2,
   "id": "e5353d6e-aa84-4136-bcb9-2fb3f7203b4e",
   "metadata": {},
   "outputs": [
    {
     "data": {
      "text/plain": [
       "17"
      ]
     },
     "execution_count": 2,
     "metadata": {},
     "output_type": "execute_result"
    }
   ],
   "source": [
    "# This is a simple arithmetic expression to multiply then add integers.\n",
    "result = (3 * 4) + 5\n",
    "result"
   ]
  },
  {
   "cell_type": "code",
   "execution_count": 10,
   "id": "64de7f9e-a252-44e5-ba7d-5b3e6b64406c",
   "metadata": {},
   "outputs": [
    {
     "name": "stdout",
     "output_type": "stream",
     "text": [
      "200 minutes is  3.33 hr\n"
     ]
    }
   ],
   "source": [
    "# This will convert 200 minutes to hours by diving by 60\n",
    "hr = 200/60\n",
    "f_hr=round(hr,2)\n",
    "print(\"200 minutes is \", f_hr, \"hr\")"
   ]
  },
  {
   "cell_type": "markdown",
   "id": "ff293617-1862-42cf-a298-75859a0d85fb",
   "metadata": {},
   "source": [
    "In this notebook, Data Science Tools and Ecosystem are summarized."
   ]
  },
  {
   "cell_type": "markdown",
   "id": "97ffd673-9340-4bac-8524-034ff5647b37",
   "metadata": {},
   "source": [
    "## "
   ]
  }
 ],
 "metadata": {
  "kernelspec": {
   "display_name": "Python 3 (ipykernel)",
   "language": "python",
   "name": "python3"
  },
  "language_info": {
   "codemirror_mode": {
    "name": "ipython",
    "version": 3
   },
   "file_extension": ".py",
   "mimetype": "text/x-python",
   "name": "python",
   "nbconvert_exporter": "python",
   "pygments_lexer": "ipython3",
   "version": "3.12.8"
  }
 },
 "nbformat": 4,
 "nbformat_minor": 5
}
